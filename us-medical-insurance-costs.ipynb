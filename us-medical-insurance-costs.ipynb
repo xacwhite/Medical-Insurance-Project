{
 "cells": [
  {
   "cell_type": "markdown",
   "metadata": {},
   "source": [
    "# U.S. Medical Insurance Costs"
   ]
  },
  {
   "cell_type": "markdown",
   "metadata": {},
   "source": [
    "Imports CSV for CSV files."
   ]
  },
  {
   "cell_type": "code",
   "execution_count": 707,
   "metadata": {},
   "outputs": [],
   "source": [
    "import csv"
   ]
  },
  {
   "cell_type": "markdown",
   "metadata": {},
   "source": [
    "Create lists to store information from CSV file."
   ]
  },
  {
   "cell_type": "code",
   "execution_count": 708,
   "metadata": {},
   "outputs": [],
   "source": [
    "age = [] \n",
    "sex = []\n",
    "bmi = [] \n",
    "children = []\n",
    "smoker = []\n",
    "region = []\n",
    "charges = []"
   ]
  },
  {
   "cell_type": "markdown",
   "metadata": {},
   "source": [
    "Sorts data from insurance.csv into above lists based on catagory."
   ]
  },
  {
   "cell_type": "code",
   "execution_count": 709,
   "metadata": {},
   "outputs": [],
   "source": [
    "with open('insurance.csv', newline = '') as insurance_file:\n",
    "    insurance_data = csv.DictReader(insurance_file)\n",
    "    for line in insurance_data:\n",
    "        for k, v in line.items():\n",
    "            if k == 'age':\n",
    "                age.append(v)\n",
    "            elif k == 'sex':\n",
    "                if v == 'female':\n",
    "                    sex.append(1)\n",
    "                elif v == 'male':\n",
    "                    sex.append(0)\n",
    "            elif k == 'bmi':\n",
    "                bmi.append(v)\n",
    "            elif k == 'children':\n",
    "                children.append(v)\n",
    "            elif k == 'smoker':\n",
    "                if v == 'yes':\n",
    "                    smoker.append(1)\n",
    "                elif v == 'no':\n",
    "                    smoker.append(0)\n",
    "            elif k == 'region':\n",
    "                region.append(v)\n",
    "            else:\n",
    "                charges.append(round(float(v), 2))"
   ]
  },
  {
   "cell_type": "markdown",
   "metadata": {},
   "source": [
    "Finds average cost for insurance."
   ]
  },
  {
   "cell_type": "code",
   "execution_count": 710,
   "metadata": {},
   "outputs": [
    {
     "name": "stdout",
     "output_type": "stream",
     "text": [
      "16884.92\n"
     ]
    }
   ],
   "source": [
    "def average_charge():\n",
    "    for i in charges:\n",
    "        count = 0\n",
    "        total = 0.0\n",
    "        total += i\n",
    "        count += 1\n",
    "        average = total / count\n",
    "        return average\n",
    "\n",
    "average = average_charge()\n",
    "\n",
    "print(average)"
   ]
  },
  {
   "cell_type": "markdown",
   "metadata": {},
   "source": [
    "Sorts insurance.csv into a dictionary with keys as numbers and values as dictionaries with keys for the column names and values as the value for that entrys column name.\n",
    "\n",
    "For example the first entry would be:\n",
    "{1: {'age': '19', 'sex': 'female', 'bmi': '27.9', 'children': '0', 'smoker': 'yes', 'region': 'southwest', 'charges': '16884.924'}"
   ]
  },
  {
   "cell_type": "code",
   "execution_count": 711,
   "metadata": {},
   "outputs": [],
   "source": [
    "insurance_dict = {}\n",
    "\n",
    "with open('insurance.csv', newline = '') as insurance_file:\n",
    "    insurance_data = csv.DictReader(insurance_file)\n",
    "    count = 0\n",
    "    for line in insurance_data:\n",
    "        count += 1\n",
    "        insurance_dict[count] = line\n",
    "\n",
    "#print(insurance_dict)"
   ]
  },
  {
   "cell_type": "markdown",
   "metadata": {},
   "source": [
    "Calculates average charges for each region."
   ]
  },
  {
   "cell_type": "code",
   "execution_count": 712,
   "metadata": {},
   "outputs": [
    {
     "name": "stdout",
     "output_type": "stream",
     "text": [
      "southwest 12346.94 southeast 14735.41 northwest 12417.58 northeast 13406.38\n"
     ]
    }
   ],
   "source": [
    "def average_region(d):\n",
    "    sw_total, sw_count = 0.0, 0\n",
    "    se_total, se_count = 0.0, 0\n",
    "    nw_total, nw_count = 0.0, 0\n",
    "    ne_total, ne_count = 0.0, 0\n",
    "    for v in d.values():\n",
    "        if v['region'] == 'southwest':\n",
    "            sw_total += float(v['charges'])\n",
    "            sw_count += 1\n",
    "        elif v['region'] == 'southeast':\n",
    "            se_total += float(v['charges'])\n",
    "            se_count += 1\n",
    "        elif v['region'] == 'northwest':\n",
    "            nw_total += float(v['charges'])\n",
    "            nw_count += 1\n",
    "        elif v['region'] == 'northeast':\n",
    "            ne_total += float(v['charges'])\n",
    "            ne_count += 1\n",
    "    return round(sw_total / sw_count, 2), round(se_total / se_count, 2), round(nw_total / nw_count, 2), round(ne_total / ne_count, 2)\n",
    "\n",
    "sw_average, se_average, nw_average, ne_average = average_region(insurance_dict)\n",
    "\n",
    "print('southwest', sw_average, 'southeast', se_average, 'northwest', nw_average, 'northeast', ne_average)\n"
   ]
  },
  {
   "cell_type": "markdown",
   "metadata": {},
   "source": [
    "Creates a regional averages list and a regions list, these lists hold regional averages and each specific region found in the data respectfully. It then creates a dictionary from the two lists."
   ]
  },
  {
   "cell_type": "code",
   "execution_count": 713,
   "metadata": {},
   "outputs": [
    {
     "name": "stdout",
     "output_type": "stream",
     "text": [
      "['southwest', 'southeast', 'northwest', 'northeast']\n",
      "{'southwest': 12346.94, 'southeast': 14735.41, 'northwest': 12417.58, 'northeast': 13406.38}\n"
     ]
    }
   ],
   "source": [
    "regional_averages_list = [sw_average, se_average, nw_average, ne_average]\n",
    "\n",
    "regions = []\n",
    "\n",
    "for i in region:\n",
    "    if i not in regions:\n",
    "        regions.append(i)\n",
    "\n",
    "print(regions)\n",
    "\n",
    "regional_averages = dict(zip(regions, regional_averages_list))\n",
    "\n",
    "print(regional_averages)"
   ]
  },
  {
   "cell_type": "markdown",
   "metadata": {},
   "source": [
    "This code finds the highest regional name and average as well as the lowest regional name and average."
   ]
  },
  {
   "cell_type": "code",
   "execution_count": 714,
   "metadata": {},
   "outputs": [
    {
     "name": "stdout",
     "output_type": "stream",
     "text": [
      "southeast 14735.41 southwest 12346.94\n"
     ]
    }
   ],
   "source": [
    "high_average = 0\n",
    "name_high_average = ''\n",
    "\n",
    "for k, v in regional_averages.items():\n",
    "    if v > high_average:\n",
    "        high_average = v\n",
    "        name_high_average = k\n",
    "    \n",
    "\n",
    "low_average = sw_average\n",
    "name_low_average = 'southwest'\n",
    "\n",
    "for k, v in regional_averages.items():\n",
    "    if v < low_average:\n",
    "        low_average = v\n",
    "        name_low_average = k\n",
    "\n",
    "print(name_high_average, high_average, name_low_average, low_average)"
   ]
  },
  {
   "cell_type": "markdown",
   "metadata": {},
   "source": []
  },
  {
   "cell_type": "code",
   "execution_count": 715,
   "metadata": {},
   "outputs": [],
   "source": [
    "def smoker_num(d):\n",
    "    for v in d.values():\n",
    "        if v['smoker'] == 'yes':\n",
    "            v['smoker'] = 1\n",
    "        else:\n",
    "            v['smoker'] = 0\n",
    "    return d\n",
    "\n",
    "insurance_dict_smoker_num = smoker_num(insurance_dict)"
   ]
  },
  {
   "cell_type": "markdown",
   "metadata": {},
   "source": [
    "This code calculates the average insurance charges difference between non-smokers and smokers both without children."
   ]
  },
  {
   "cell_type": "code",
   "execution_count": 716,
   "metadata": {},
   "outputs": [
    {
     "name": "stdout",
     "output_type": "stream",
     "text": [
      "average smoker 31341.36 average nonsmoker 7611.79\n",
      "On average smokers spend $23729.57 more than non-smokers\n"
     ]
    }
   ],
   "source": [
    "def smoker_difference(d):\n",
    "    smoker_charges, smoker_count = 0.0, 0\n",
    "    nonsmokers_charges, nonsmoker_count = 0.0, 0\n",
    "    for v in insurance_dict.values():\n",
    "        if int(v['children']) == 0:\n",
    "            if v['smoker'] == 1:\n",
    "                smoker_charges += float(v['charges'])\n",
    "                smoker_count += 1\n",
    "            else:\n",
    "                nonsmokers_charges += float(v['charges'])\n",
    "                nonsmoker_count += 1\n",
    "    average_smoker = round(smoker_charges / smoker_count, 2)\n",
    "    average_nonsmoker = round(nonsmokers_charges / nonsmoker_count, 2)\n",
    "    return average_smoker, average_nonsmoker\n",
    "\n",
    "average_smoker, average_nonsmoker = smoker_difference(insurance_dict)\n",
    "\n",
    "print('average smoker', average_smoker, 'average nonsmoker', average_nonsmoker)\n",
    "\n",
    "print('On average smokers spend $' +str(average_smoker - average_nonsmoker) + ' more than non-smokers')\n",
    "                "
   ]
  },
  {
   "cell_type": "markdown",
   "metadata": {},
   "source": [
    "On average how much do women spend over men?\n",
    "\n",
    "The code below finds the average for males and the average cost for females and finds the difference in the charges."
   ]
  }
 ],
 "metadata": {
  "kernelspec": {
   "display_name": "Python 3",
   "language": "python",
   "name": "python3"
  },
  "language_info": {
   "codemirror_mode": {
    "name": "ipython",
    "version": 3
   },
   "file_extension": ".py",
   "mimetype": "text/x-python",
   "name": "python",
   "nbconvert_exporter": "python",
   "pygments_lexer": "ipython3",
   "version": "3.10.1"
  }
 },
 "nbformat": 4,
 "nbformat_minor": 4
}
